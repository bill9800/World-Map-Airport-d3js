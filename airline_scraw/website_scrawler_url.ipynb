{
 "cells": [
  {
   "cell_type": "markdown",
   "metadata": {},
   "source": [
    "# Website_scrawler_preprocessing\n",
    "\n",
    "To scraw all the flight_link in order to get all flight time. This scrawler is created by Bill Chang, and the purpose is to visualize the data and education."
   ]
  },
  {
   "cell_type": "code",
   "execution_count": 18,
   "metadata": {
    "collapsed": false
   },
   "outputs": [
    {
     "name": "stderr",
     "output_type": "stream",
     "text": [
      "D:\\app\\anaconda\\envs\\py35\\lib\\site-packages\\bs4\\__init__.py:181: UserWarning: No parser was explicitly specified, so I'm using the best available HTML parser for this system (\"lxml\"). This usually isn't a problem, but if you run this code on another system, or in a different virtual environment, it may use a different parser and behave differently.\n",
      "\n",
      "The code that caused this warning is on line 184 of the file D:\\app\\anaconda\\envs\\py35\\lib\\runpy.py. To get rid of this warning, change code that looks like this:\n",
      "\n",
      " BeautifulSoup([your markup])\n",
      "\n",
      "to this:\n",
      "\n",
      " BeautifulSoup([your markup], \"lxml\")\n",
      "\n",
      "  markup_type=markup_type))\n"
     ]
    }
   ],
   "source": [
    "import urllib\n",
    "from bs4 import BeautifulSoup\n",
    "import urllib.request\n",
    "\n",
    "def get_html(url):\n",
    "    byte_arr = urllib.request.urlopen(url)\n",
    "    content_bytes = byte_arr.read()\n",
    "    html = content_bytes.decode('utf8')\n",
    "    byte_arr.close()\n",
    "    return BeautifulSoup(html)\n",
    "\n",
    "soup1 = get_html('https://www.wego.tw/schedules/tw/taiwan-flight-schedules')\n",
    "\n"
   ]
  },
  {
   "cell_type": "code",
   "execution_count": 19,
   "metadata": {
    "collapsed": false
   },
   "outputs": [],
   "source": [
    "# create first node\n",
    "table1 = soup1.select('ul.schedules-in-location')\n",
    "\n",
    "web_list1 = table1[1].select('a') #select the internetional flight\n",
    "first_node = []\n",
    "\n",
    "for link in web_list1:\n",
    "    first_node.append('https://www.wego.tw'+link.get('href'))\n"
   ]
  },
  {
   "cell_type": "code",
   "execution_count": 22,
   "metadata": {
    "collapsed": false
   },
   "outputs": [
    {
     "name": "stderr",
     "output_type": "stream",
     "text": [
      "D:\\app\\anaconda\\envs\\py35\\lib\\site-packages\\bs4\\__init__.py:181: UserWarning: No parser was explicitly specified, so I'm using the best available HTML parser for this system (\"lxml\"). This usually isn't a problem, but if you run this code on another system, or in a different virtual environment, it may use a different parser and behave differently.\n",
      "\n",
      "The code that caused this warning is on line 184 of the file D:\\app\\anaconda\\envs\\py35\\lib\\runpy.py. To get rid of this warning, change code that looks like this:\n",
      "\n",
      " BeautifulSoup([your markup])\n",
      "\n",
      "to this:\n",
      "\n",
      " BeautifulSoup([your markup], \"lxml\")\n",
      "\n",
      "  markup_type=markup_type))\n"
     ]
    },
    {
     "name": "stdout",
     "output_type": "stream",
     "text": [
      "------------------------------------------------------------------------------------------------------------------------------------------------------------------------------------------['https://www.wego.tw/schedules/tw/tia/flight-schedules-from-taiwan-to-tirana', 'https://www.wego.tw/schedules/tw/alg/flight-schedules-from-taiwan-to-algiers', 'https://www.wego.tw/schedules/tw/lad/flight-schedules-from-taiwan-to-luanda', 'https://www.wego.tw/schedules/tw/aua/flight-schedules-from-taiwan-to-aruba', 'https://www.wego.tw/schedules/tw/mel/flight-schedules-from-taiwan-to-melbourne', 'https://www.wego.tw/schedules/tw/syd/flight-schedules-from-taiwan-to-sydney', 'https://www.wego.tw/schedules/tw/bne/flight-schedules-from-taiwan-to-brisbane', 'https://www.wego.tw/schedules/tw/per/flight-schedules-from-taiwan-to-perth', 'https://www.wego.tw/schedules/tw/adl/flight-schedules-from-taiwan-to-adelaide', 'https://www.wego.tw/schedules/tw/cbr/flight-schedules-from-taiwan-to-canberra', 'https://www.wego.tw/schedules/tw/ool/flight-schedules-from-taiwan-to-gold-coast', 'https://www.wego.tw/schedules/tw/cns/flight-schedules-from-taiwan-to-cairns', 'https://www.wego.tw/schedules/tw/vie/flight-schedules-from-taiwan-to-vienna', 'https://www.wego.tw/schedules/tw/lnz/flight-schedules-from-taiwan-to-linz', 'https://www.wego.tw/schedules/tw/szg/flight-schedules-from-taiwan-to-salzburg', 'https://www.wego.tw/schedules/tw/grz/flight-schedules-from-taiwan-to-graz', 'https://www.wego.tw/schedules/tw/bah/flight-schedules-from-taiwan-to-manama', 'https://www.wego.tw/schedules/tw/dac/flight-schedules-from-taiwan-to-dhaka', 'https://www.wego.tw/schedules/tw/bru/flight-schedules-from-taiwan-to-brussels', 'https://www.wego.tw/schedules/tw/sjj/flight-schedules-from-taiwan-to-sarajevo']\n"
     ]
    }
   ],
   "source": [
    "#create second node\n",
    "second_node = []\n",
    "\n",
    "for first_link in first_node:\n",
    "    soup2 = get_html(first_link)\n",
    "    table2 = soup2.select('li.flight-schedules__item')\n",
    "    print('--',sep='',end='')\n",
    "    for element in table2:\n",
    "        temp = element.select('a')[1].get('href')  #get only the time table link\n",
    "        second_node.append('https://www.wego.tw'+temp)\n",
    "\n",
    "print(second_node[0:20])"
   ]
  },
  {
   "cell_type": "code",
   "execution_count": 23,
   "metadata": {
    "collapsed": false
   },
   "outputs": [
    {
     "name": "stderr",
     "output_type": "stream",
     "text": [
      "D:\\app\\anaconda\\envs\\py35\\lib\\site-packages\\bs4\\__init__.py:181: UserWarning: No parser was explicitly specified, so I'm using the best available HTML parser for this system (\"lxml\"). This usually isn't a problem, but if you run this code on another system, or in a different virtual environment, it may use a different parser and behave differently.\n",
      "\n",
      "The code that caused this warning is on line 184 of the file D:\\app\\anaconda\\envs\\py35\\lib\\runpy.py. To get rid of this warning, change code that looks like this:\n",
      "\n",
      " BeautifulSoup([your markup])\n",
      "\n",
      "to this:\n",
      "\n",
      " BeautifulSoup([your markup], \"lxml\")\n",
      "\n",
      "  markup_type=markup_type))\n"
     ]
    },
    {
     "name": "stdout",
     "output_type": "stream",
     "text": [
      "------------------------------------------------------------------------------------------------------------------------------------------------------------------------------------------------------------------------------------------------------------------------------------------------------------------------------------------------------------------------------------------------------------------------------------------------------------------------['https://www.wego.tw/schedules/tpe/tia/flight-schedules-from-taipei-to-tirana', 'https://www.wego.tw/schedules/tpe/alg/flight-schedules-from-taipei-to-algiers', 'https://www.wego.tw/schedules/tpe/lad/flight-schedules-from-taipei-to-luanda', 'https://www.wego.tw/schedules/tpe/aua/flight-schedules-from-taipei-to-aruba', 'https://www.wego.tw/schedules/tpe/mel/flight-schedules-from-taipei-to-melbourne', 'https://www.wego.tw/schedules/khh/mel/flight-schedules-from-kaohsiung-to-melbourne', 'https://www.wego.tw/schedules/tpe/syd/flight-schedules-from-taipei-to-sydney', 'https://www.wego.tw/schedules/khh/syd/flight-schedules-from-kaohsiung-to-sydney', 'https://www.wego.tw/schedules/tpe/bne/flight-schedules-from-taipei-to-brisbane', 'https://www.wego.tw/schedules/khh/bne/flight-schedules-from-kaohsiung-to-brisbane', 'https://www.wego.tw/schedules/tpe/per/flight-schedules-from-taipei-to-perth', 'https://www.wego.tw/schedules/tpe/adl/flight-schedules-from-taipei-to-adelaide', 'https://www.wego.tw/schedules/tpe/cbr/flight-schedules-from-taipei-to-canberra', 'https://www.wego.tw/schedules/tpe/ool/flight-schedules-from-taipei-to-gold-coast', 'https://www.wego.tw/schedules/tpe/cns/flight-schedules-from-taipei-to-cairns', 'https://www.wego.tw/schedules/tpe/vie/flight-schedules-from-taipei-to-vienna', 'https://www.wego.tw/schedules/khh/vie/flight-schedules-from-kaohsiung-to-vienna', 'https://www.wego.tw/schedules/tpe/lnz/flight-schedules-from-taipei-to-linz', 'https://www.wego.tw/schedules/tpe/szg/flight-schedules-from-taipei-to-salzburg', 'https://www.wego.tw/schedules/tpe/grz/flight-schedules-from-taipei-to-graz']\n"
     ]
    }
   ],
   "source": [
    "#create third node\n",
    "third_node = []\n",
    "for second_link in second_node:\n",
    "    soup3 = get_html(second_link)\n",
    "    table3 = soup3.select('li.flight-schedules__item')\n",
    "    print('--',sep='',end='')\n",
    "    for element in table3:\n",
    "        temp= element.select('a')[1].get('href')\n",
    "        third_node.append('https://www.wego.tw'+temp)\n",
    "\n",
    "print (third_node[0:20])"
   ]
  },
  {
   "cell_type": "code",
   "execution_count": 24,
   "metadata": {
    "collapsed": false
   },
   "outputs": [
    {
     "name": "stdout",
     "output_type": "stream",
     "text": [
      "302\n"
     ]
    }
   ],
   "source": [
    "print (len(third_node))"
   ]
  },
  {
   "cell_type": "code",
   "execution_count": 27,
   "metadata": {
    "collapsed": false
   },
   "outputs": [],
   "source": [
    "import pickle\n",
    "with open('web_list.txt','wb') as f: # save the list \n",
    "    pickle.dump(third_node,f)"
   ]
  },
  {
   "cell_type": "code",
   "execution_count": 28,
   "metadata": {
    "collapsed": true
   },
   "outputs": [],
   "source": [
    "with open('web_list.txt','rb') as f:  # try read the list\n",
    "    test_list = pickle.load(f)"
   ]
  },
  {
   "cell_type": "code",
   "execution_count": 35,
   "metadata": {
    "collapsed": false
   },
   "outputs": [],
   "source": [
    "for i in range(len(test_list)): # make sure the list we read is the same as the original one\n",
    "    if third_node[i] != test_list[i]:\n",
    "        print ('not the same')\n"
   ]
  },
  {
   "cell_type": "code",
   "execution_count": null,
   "metadata": {
    "collapsed": true
   },
   "outputs": [],
   "source": []
  }
 ],
 "metadata": {
  "kernelspec": {
   "display_name": "py35",
   "language": "python",
   "name": "py35"
  },
  "language_info": {
   "codemirror_mode": {
    "name": "ipython",
    "version": 3
   },
   "file_extension": ".py",
   "mimetype": "text/x-python",
   "name": "python",
   "nbconvert_exporter": "python",
   "pygments_lexer": "ipython3",
   "version": "3.5.2"
  }
 },
 "nbformat": 4,
 "nbformat_minor": 2
}
